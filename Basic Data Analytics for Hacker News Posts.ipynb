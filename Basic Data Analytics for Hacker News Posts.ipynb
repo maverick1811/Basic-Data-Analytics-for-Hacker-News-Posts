{
 "cells": [
  {
   "cell_type": "markdown",
   "metadata": {},
   "source": [
    "Basic Data Analytics for Hacker News Posts\n",
    "\n",
    "This is a simple program based on the guided project at Dataquest. Here, I analyze a dataset of Hacker News posts from September 2015-16. The documentation for it can be found at https://www.kaggle.com/hacker-news/hacker-news-posts\n",
    "\n",
    "Hacker News has 2 specific types of posts called Ask HN and Show HN. Users submit Ask HN posts to ask the Hacker News community a specific question.Likewise, users submit Show HN posts to show the Hacker News community a project, product, or just generally something interesting.\n",
    "\n",
    "The goals of the project are simple:\n",
    "1. Which of the two, Ask HN or Show HN, has the higher number of average comments?\n",
    "2. Among the posts that have the higher average, does the time of posting affect the number of comments? If yes, what are the top 5 hours that recieve the most comments."
   ]
  },
  {
   "cell_type": "code",
   "execution_count": 1,
   "metadata": {
    "collapsed": false
   },
   "outputs": [
    {
     "name": "stdout",
     "output_type": "stream",
     "text": [
      "['id', 'title', 'url', 'num_points', 'num_comments', 'author', 'created_at'] \n",
      "\n",
      "['12224879', 'Interactive Dynamic Video', 'http://www.interactivedynamicvideo.com/', '386', '52', 'ne0phyte', '8/4/2016 11:52']\n",
      "\n",
      "\n",
      "['10975351', 'How to Use Open Source and Shut the Fuck Up at the Same Time', 'http://hueniverse.com/2016/01/26/how-to-use-open-source-and-shut-the-fuck-up-at-the-same-time/', '39', '10', 'josep2', '1/26/2016 19:30']\n",
      "\n",
      "\n",
      "['11964716', \"Florida DJs May Face Felony for April Fools' Water Joke\", 'http://www.thewire.com/entertainment/2013/04/florida-djs-april-fools-water-joke/63798/', '2', '1', 'vezycash', '6/23/2016 22:20']\n",
      "\n",
      "\n"
     ]
    }
   ],
   "source": [
    "# Opening the data file\n",
    "\n",
    "from csv import reader\n",
    "\n",
    "opened_file=open(\"hacker_news.csv\")\n",
    "read_file=reader(opened_file)\n",
    "hn=list(read_file)\n",
    "hn_header = hn[0]\n",
    "hn=hn[1:]\n",
    "\n",
    "# Having a look at the first few rows of data\n",
    "\n",
    "print(hn_header, \"\\n\")\n",
    "i=0\n",
    "while i < 3:\n",
    "    print(hn[i])\n",
    "    print(\"\\n\")\n",
    "    i = i+1"
   ]
  },
  {
   "cell_type": "code",
   "execution_count": 2,
   "metadata": {
    "collapsed": false
   },
   "outputs": [
    {
     "name": "stdout",
     "output_type": "stream",
     "text": [
      "The number of posts with ask hn: 1744\n",
      "The number of posts with show hn: 1162\n",
      "The number of other posts: 17194\n"
     ]
    }
   ],
   "source": [
    "# To obtain seperate lists for titles containing ask hn\n",
    "# and show hn\n",
    "\n",
    "ask_posts = []\n",
    "show_posts = []\n",
    "other_posts = []\n",
    "\n",
    "for row in hn:\n",
    "    title = row[1]\n",
    "    title = title.lower()\n",
    "    if title.startswith(\"ask hn\"):\n",
    "        ask_posts.append(row)\n",
    "    elif title.startswith(\"show hn\"):\n",
    "        show_posts.append(row)\n",
    "    else:\n",
    "        other_posts.append(row)\n",
    "        \n",
    "print(\"The number of posts with ask hn:\",len(ask_posts))\n",
    "print(\"The number of posts with show hn:\",len(show_posts))\n",
    "print(\"The number of other posts:\", len(other_posts))"
   ]
  },
  {
   "cell_type": "code",
   "execution_count": 3,
   "metadata": {
    "collapsed": false
   },
   "outputs": [
    {
     "name": "stdout",
     "output_type": "stream",
     "text": [
      "Average number of comments in ask hn posts: 14.04\n",
      "Average number of comments in show hn posts: 10.32\n"
     ]
    }
   ],
   "source": [
    "# Obtaining the average number of comments in ask hn and \n",
    "# show hn posts\n",
    "\n",
    "total_ask_comments = 0\n",
    "\n",
    "for row in ask_posts:\n",
    "    n_comments = int(row[4])\n",
    "    total_ask_comments += n_comments\n",
    "    \n",
    "avg_ask_comments = total_ask_comments/len(ask_posts)\n",
    "\n",
    "print(\"Average number of comments in ask hn posts:\",\n",
    "      round(avg_ask_comments, 2))\n",
    "\n",
    "\n",
    "total_show_comments = 0\n",
    "\n",
    "for row in show_posts:\n",
    "    n_comments = int(row[4])\n",
    "    total_show_comments += n_comments\n",
    "    \n",
    "avg_show_comments = total_show_comments/len(show_posts)\n",
    "\n",
    "print(\"Average number of comments in show hn posts:\",\n",
    "      round(avg_show_comments, 2))"
   ]
  },
  {
   "cell_type": "code",
   "execution_count": 4,
   "metadata": {
    "collapsed": false
   },
   "outputs": [
    {
     "name": "stdout",
     "output_type": "stream",
     "text": [
      "The average number of comments by hour are given below: \n",
      "\n",
      "[0, 8.160714285714286]\n",
      "[1, 11.737704918032787]\n",
      "[2, 23.45762711864407]\n",
      "[3, 7.672727272727273]\n",
      "[4, 7.083333333333333]\n",
      "[5, 10.48936170212766]\n",
      "[6, 8.844444444444445]\n",
      "[7, 7.685714285714286]\n",
      "[8, 10.142857142857142]\n",
      "[9, 5.586956521739131]\n",
      "[10, 13.233333333333333]\n",
      "[11, 10.898305084745763]\n",
      "[12, 9.337837837837839]\n",
      "[13, 14.906976744186046]\n",
      "[14, 13.13888888888889]\n",
      "[15, 38.27350427350427]\n",
      "[16, 16.798165137614678]\n",
      "[17, 11.356435643564357]\n",
      "[18, 13.1]\n",
      "[19, 10.72972972972973]\n",
      "[20, 21.28395061728395]\n",
      "[21, 15.9]\n",
      "[22, 6.680555555555555]\n",
      "[23, 7.884057971014493]\n"
     ]
    }
   ],
   "source": [
    "# To calculate the average number of comments by hour for\n",
    "# ask hn posts\n",
    "\n",
    "import datetime as dt\n",
    "\n",
    "result_list = []\n",
    "\n",
    "for row in ask_posts:\n",
    "    n_comments = int(row[4])\n",
    "    result_list.append([row[6], n_comments])\n",
    "    \n",
    "#print(result_list[:3])\n",
    "\n",
    "counts_by_hour = {}\n",
    "comments_by_hour = {}\n",
    "\n",
    "for row in result_list:\n",
    "    date_str = row[0]\n",
    "    date = dt.datetime.strptime(date_str, \"%m/%d/%Y %H:%M\")\n",
    "    hour = date.hour\n",
    "    #print(hour)\n",
    "    if hour not in counts_by_hour:\n",
    "        counts_by_hour[hour] = 1\n",
    "        comments_by_hour[hour] = row[1]\n",
    "    if hour in counts_by_hour:\n",
    "        counts_by_hour[hour] += 1\n",
    "        comments_by_hour[hour] += row[1]\n",
    "\n",
    "#print(counts_by_hour)\n",
    "#print(\"\\n\")\n",
    "#print(comments_by_hour)\n",
    "\n",
    "avg_by_hour = []\n",
    "\n",
    "for hour in counts_by_hour and comments_by_hour:\n",
    "    avg_comments = comments_by_hour[hour]/counts_by_hour[hour]\n",
    "    avg_by_hour.append([hour, avg_comments])\n",
    "    \n",
    "print(\"The average number of comments by hour are given below: \\n\")\n",
    "for row in avg_by_hour:\n",
    "    print(row)"
   ]
  },
  {
   "cell_type": "code",
   "execution_count": 5,
   "metadata": {
    "collapsed": false
   },
   "outputs": [
    {
     "name": "stdout",
     "output_type": "stream",
     "text": [
      "The top 5 hours for ask post comments are:\n",
      "\n",
      "15:00: 38.27 average comments per post\n",
      "02:00: 23.46 average comments per post\n",
      "20:00: 21.28 average comments per post\n",
      "16:00: 16.80 average comments per post\n",
      "21:00: 15.90 average comments per post\n"
     ]
    }
   ],
   "source": [
    "# To show the 5 hours which have the highest number of\n",
    "# average comments in ask hn posts\n",
    "\n",
    "def sortSecond(val): \n",
    "    return val[1]  \n",
    "  \n",
    "avg_by_hour.sort(key = sortSecond, reverse = True)  \n",
    "\n",
    "\n",
    "print(\"The top 5 hours for ask post comments are:\"\"\\n\")\n",
    "\n",
    "i=0\n",
    "for row in avg_by_hour:\n",
    "    if i<5:\n",
    "        dt_hour = str(row[0])\n",
    "        hour = dt.datetime.strptime(dt_hour,\"%H\")\n",
    "        hour = hour.strftime(\"%H:%M\")\n",
    "        avg_posts = row[1]\n",
    "        output = \"{}: {:.2f} average comments per post\".format(hour, avg_posts)\n",
    "        print(output)\n",
    "        i=i+1"
   ]
  },
  {
   "cell_type": "code",
   "execution_count": 7,
   "metadata": {
    "collapsed": false
   },
   "outputs": [
    {
     "name": "stdout",
     "output_type": "stream",
     "text": [
      "The top 5 hours for ask post comments in IST are:\n",
      "\n",
      "01:30: 38.27 average comments per post\n",
      "12:30: 23.46 average comments per post\n",
      "06:30: 21.28 average comments per post\n",
      "02:30: 16.80 average comments per post\n",
      "07:30: 15.90 average comments per post\n"
     ]
    }
   ],
   "source": [
    "# To convert the top 5 hours with the highest average\n",
    "# comments from EST to IST\n",
    "\n",
    "\n",
    "print(\"The top 5 hours for ask post comments in IST are:\"\"\\n\")\n",
    "\n",
    "i=0\n",
    "for row in avg_by_hour:\n",
    "    if i<5:\n",
    "        time = str(row[0])\n",
    "        time = dt.datetime.strptime(time, \"%H\")\n",
    "        time_ist = time + dt.timedelta(hours=10, minutes=30)\n",
    "        time_ist = time_ist.strftime(\"%H:%M\")\n",
    "        avg_posts = row[1]\n",
    "        output = \"{}: {:.2f} average comments per post\".format(time_ist, avg_posts)\n",
    "        print(output)\n",
    "        i=i+1"
   ]
  }
 ],
 "metadata": {
  "kernelspec": {
   "display_name": "Python 3",
   "language": "python",
   "name": "python3"
  },
  "language_info": {
   "codemirror_mode": {
    "name": "ipython",
    "version": 3
   },
   "file_extension": ".py",
   "mimetype": "text/x-python",
   "name": "python",
   "nbconvert_exporter": "python",
   "pygments_lexer": "ipython3",
   "version": "3.4.3"
  }
 },
 "nbformat": 4,
 "nbformat_minor": 2
}
